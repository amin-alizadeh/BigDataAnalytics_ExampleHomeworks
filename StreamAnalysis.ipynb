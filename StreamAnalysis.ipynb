{
 "cells": [
  {
   "cell_type": "code",
   "execution_count": 1,
   "metadata": {
    "collapsed": true
   },
   "outputs": [],
   "source": [
    "import requests\n",
    "import json\n",
    "from bitarray import bitarray\n",
    "from decimal import Decimal #To avoid overflowing for very large numbers\n",
    "import numpy as np\n",
    "from time import time"
   ]
  },
  {
   "cell_type": "code",
   "execution_count": 2,
   "metadata": {
    "collapsed": true
   },
   "outputs": [],
   "source": [
    "def count_trail_zeroes(d):\n",
    "    \"\"\"Count the number of leading and trailing zeroes in an integer.\"\"\"\n",
    "    b = \"{:064b}\".format(d)\n",
    "    try:\n",
    "        return 63 - b.rindex(\"1\")\n",
    "    except ValueError:  # \"stubsting not found\" error - did not find any '1' in the string\n",
    "        return 64"
   ]
  },
  {
   "cell_type": "code",
   "execution_count": 5,
   "metadata": {
    "collapsed": false
   },
   "outputs": [],
   "source": [
    "#Initialization\n",
    "largePrime = 1003162753\n",
    "users_N_zeros = 0 #Number of leading zeros in Flajolet-Martin Approach\n",
    "#a and b for hashes in Flajolet-Martin Approach\n",
    "usr_r1 = np.random.randint(largePrime)\n",
    "usr_r2 = np.random.randint(largePrime)\n",
    "\n",
    "#Bloom filter\n",
    "N_bloom = 10000\n",
    "usr_hashes = 4 #Number of hash functions to be used\n",
    "usr_rs = np.random.randint(N_bloom, size=(usr_hashes, 2))\n",
    "\n",
    "\n",
    "#Filtering the most popular topics with exponentially decaying windows\n",
    "topics_c = 1 - 1E-2 # 1 - c\n",
    "topics_count = {}\n",
    "topic_threshold = 0.9 #Treshold of the filter\n",
    "\n",
    "running_time = 60 * 60 # in minutes\n",
    "\n",
    "iter_report = 500 #Iteration of reporting frequency"
   ]
  },
  {
   "cell_type": "code",
   "execution_count": 6,
   "metadata": {
    "collapsed": false
   },
   "outputs": [
    {
     "name": "stdout",
     "output_type": "stream",
     "text": [
      "500 items have been received in 0h 6m 3s\n",
      "1000 items have been received in 0h 10m 32s\n",
      "1500 items have been received in 0h 16m 18s\n",
      "2000 items have been received in 0h 22m 3s\n",
      "2500 items have been received in 0h 28m 0s\n",
      "3000 items have been received in 0h 34m 12s\n",
      "3500 items have been received in 0h 38m 46s\n",
      "4000 items have been received in 0h 44m 47s\n",
      "4500 items have been received in 0h 50m 47s\n",
      "5000 items have been received in 0h 56m 23s\n",
      "stream has been stopped\n",
      "1 (weight) for: Latino Culture\n",
      "0.99 (weight) for: Salsa Dance Lessons\n",
      "0.9801 (weight) for: Dance and Movement\n",
      "0.9702989999999999 (weight) for: Exercise\n",
      "0.96059601 (weight) for: Cultural Activities\n",
      "0.9509900498999999 (weight) for: Dance Lessons\n",
      "0.9414801494009999 (weight) for: Dance Fitness\n",
      "0.9320653479069899 (weight) for: Latin Dance\n",
      "0.92274469442792 (weight) for: Dancing\n",
      "0.9135172474836407 (weight) for: Women's Fitness\n",
      "Approximately 1024 (2**10) unique users have responded an RSVP\n",
      "stream has been stopped\n",
      "1950 out of 5837 users have been made RSVPs in a row (0.3341)\n"
     ]
    }
   ],
   "source": [
    "B = bitarray(N_bloom)\n",
    "B.setall(0)\n",
    "\n",
    "rq = requests.get('http://stream.meetup.com/2/rsvps', stream=True)\n",
    "start_time = time()\n",
    "iters = 0\n",
    "for raw_rsvp in rq.iter_lines():\n",
    "    try:\n",
    "        rsvp = json.loads(raw_rsvp)\n",
    "        member_id = rsvp[u'member'][u'member_id']\n",
    "        member_hash = hash(member_id)\n",
    "        \n",
    "        #Flajolet-Martin\n",
    "        user_hash = (member_hash * usr_r1 + usr_r2) % largePrime\n",
    "        users_N_zeros = max(users_N_zeros, count_trail_zeroes(user_hash))\n",
    "        \n",
    "        #Bloom filter for identifying recurring users\n",
    "        for r in range(usr_hashes):\n",
    "            hash_i = int(((Decimal(member_hash)*usr_rs[r, 0] + usr_rs[r, 1]) % largePrime)) % N_bloom\n",
    "            B[hash_i] = 1\n",
    "        \n",
    "        #Finding the most popular topics\n",
    "        topics = [tp[u'topic_name'] for tp in rsvp[u'group'][u'group_topics']]\n",
    "        for topic in topics:    \n",
    "            items_to_drop = []\n",
    "            for k in topics_count:\n",
    "                topics_count[k] *= topics_c\n",
    "                #If an item's weight below the threshold it will be dropped from the list\n",
    "                if topics_count[k] < topic_threshold: \n",
    "                    items_to_drop.append(k)\n",
    "            for item in items_to_drop:\n",
    "                topics_count.pop(item, None)\n",
    "\n",
    "            if topic in topics_count:\n",
    "                topics_count[topic] += 1\n",
    "            else:\n",
    "                topics_count[topic] = 1\n",
    "                \n",
    "        iters += 1\n",
    "        if iters % iter_report == 0:\n",
    "            hours, remainder = divmod(passed_time, 3600)\n",
    "            minutes, seconds = divmod(remainder, 60) \n",
    "            print(\"{} items have been received in {:.0f}h {:.0f}m {:.0f}s\".format(iters, hours, minutes, seconds))\n",
    "    except:\n",
    "        pass\n",
    "    passed_time = time() - start_time\n",
    "    if passed_time > running_time:\n",
    "        break\n",
    "print(\"stream has been stopped\")\n",
    "\n",
    "\n",
    "#Report\n",
    "TopN = 10\n",
    "most_frequent_TopN = sorted(topics_count.items(), key=lambda k: -k[1])[:TopN]\n",
    "for k, v in most_frequent_TopN:\n",
    "    print(\"{} (weight) for: {}\".format(v, k))\n",
    "\n",
    "    \n",
    "print(\"Approximately {} (2**{}) unique users have responded an RSVP\".format(2**(users_N_zeros), users_N_zeros))\n",
    "\n",
    "\n",
    "# Check recurring users\n",
    "rq = requests.get('http://stream.meetup.com/2/rsvps', stream=True)\n",
    "start_time = time()\n",
    "iters = 0\n",
    "recurring_users = 0\n",
    "users_count = 0\n",
    "for raw_rsvp in rq.iter_lines():\n",
    "    try:\n",
    "        rsvp = json.loads(raw_rsvp)\n",
    "        member_id = rsvp[u'member'][u'member_id']\n",
    "        member_hash = hash(member_id)\n",
    "        users_count += 1\n",
    "        \n",
    "        matched_hashes = 0\n",
    "        for r in range(usr_hashes):\n",
    "            hash_i = int(((Decimal(member_hash)*usr_rs[r, 0] + usr_rs[r, 1]) % largePrime)) % N_bloom\n",
    "            if B[hash_i] == 0:\n",
    "                continue\n",
    "            matched_hashes += 1\n",
    "        if matched_hashes == usr_hashes:\n",
    "            recurring_users += 1\n",
    "    except:\n",
    "        pass\n",
    "    passed_time = time() - start_time\n",
    "    if passed_time > running_time:\n",
    "        break\n",
    "print(\"stream has been stopped\")\n",
    "\n",
    "#Rerport recurring users\n",
    "print(\"{} out of {} users have been made RSVPs in a row ({:.4f})\".format(recurring_users, users_count, (recurring_users/users_count)))"
   ]
  },
  {
   "cell_type": "code",
   "execution_count": null,
   "metadata": {
    "collapsed": false
   },
   "outputs": [],
   "source": []
  },
  {
   "cell_type": "code",
   "execution_count": null,
   "metadata": {
    "collapsed": false
   },
   "outputs": [],
   "source": []
  },
  {
   "cell_type": "code",
   "execution_count": null,
   "metadata": {
    "collapsed": false
   },
   "outputs": [],
   "source": []
  },
  {
   "cell_type": "code",
   "execution_count": null,
   "metadata": {
    "collapsed": false
   },
   "outputs": [],
   "source": []
  },
  {
   "cell_type": "code",
   "execution_count": null,
   "metadata": {
    "collapsed": true
   },
   "outputs": [],
   "source": []
  }
 ],
 "metadata": {
  "kernelspec": {
   "display_name": "Python 3",
   "language": "python",
   "name": "python3"
  },
  "language_info": {
   "codemirror_mode": {
    "name": "ipython",
    "version": 3
   },
   "file_extension": ".py",
   "mimetype": "text/x-python",
   "name": "python",
   "nbconvert_exporter": "python",
   "pygments_lexer": "ipython3",
   "version": "3.6.0"
  }
 },
 "nbformat": 4,
 "nbformat_minor": 2
}
