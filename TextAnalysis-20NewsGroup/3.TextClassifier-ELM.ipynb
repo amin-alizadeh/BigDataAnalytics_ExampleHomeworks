{
 "cells": [
  {
   "cell_type": "markdown",
   "metadata": {},
   "source": [
    "### Code for generating 20 News dataset"
   ]
  },
  {
   "cell_type": "code",
   "execution_count": 1,
   "metadata": {
    "collapsed": true
   },
   "outputs": [],
   "source": [
    "from sklearn.datasets import fetch_20newsgroups\n",
    "from sklearn.feature_extraction.text import CountVectorizer\n",
    "\n",
    "from sklearn.linear_model import LogisticRegression\n",
    "from sklearn.naive_bayes import GaussianNB\n",
    "\n",
    "import numpy as np\n",
    "import time"
   ]
  },
  {
   "cell_type": "code",
   "execution_count": 2,
   "metadata": {
    "collapsed": true
   },
   "outputs": [],
   "source": [
    "news = fetch_20newsgroups(subset='train')\n",
    "Text_train = news.data\n",
    "Y_train = news.target\n",
    "\n",
    "news_test = fetch_20newsgroups(subset='test')\n",
    "Text_test = news_test.data\n",
    "Y_test = news_test.target"
   ]
  },
  {
   "cell_type": "code",
   "execution_count": 3,
   "metadata": {
    "collapsed": true
   },
   "outputs": [],
   "source": [
    "processor = CountVectorizer(max_features=5000, stop_words='english')\n",
    "processor.fit(Text_train)\n",
    "Sparse_train = processor.transform(Text_train)\n",
    "Sparse_test = processor.transform(Text_test)"
   ]
  },
  {
   "cell_type": "code",
   "execution_count": 4,
   "metadata": {
    "collapsed": true
   },
   "outputs": [],
   "source": [
    "X_train = np.array(Sparse_train.todense())\n",
    "X_test = np.array(Sparse_test.todense())"
   ]
  },
  {
   "cell_type": "code",
   "execution_count": 5,
   "metadata": {
    "collapsed": true
   },
   "outputs": [],
   "source": [
    "labels = news.target_names\n",
    "vocabulary = processor.vocabulary_"
   ]
  },
  {
   "cell_type": "markdown",
   "metadata": {},
   "source": [
    "#### Dataset with:\n",
    "\n",
    "X_train, X_test, Y_train, Y_test, labels, vocabulary"
   ]
  },
  {
   "cell_type": "code",
   "execution_count": 6,
   "metadata": {
    "collapsed": false
   },
   "outputs": [],
   "source": [
    "models = {\n",
    "    'LogisticRegression': LogisticRegression()\n",
    "    ,'GaussianNB': GaussianNB()\n",
    "}"
   ]
  },
  {
   "cell_type": "code",
   "execution_count": 7,
   "metadata": {
    "collapsed": false
   },
   "outputs": [
    {
     "name": "stdout",
     "output_type": "stream",
     "text": [
      "\n",
      "Evaluating model LogisticRegression with 0 neurons\n",
      "Training time 19.253s\n",
      "Test set score for LogisticRegression: 0.77 with 0 neurons\n",
      "Scoring time 0.100s with 0 neurons\n",
      "\n",
      "Evaluating model GaussianNB with 0 neurons\n",
      "Training time 0.948s\n",
      "Test set score for GaussianNB: 0.60 with 0 neurons\n",
      "Scoring time 7.573s with 0 neurons\n",
      "\n",
      "Evaluating model LogisticRegression with 10 neurons\n",
      "Training time 20.450s\n",
      "Test set score for LogisticRegression: 0.77 with 10 neurons\n",
      "Scoring time 0.091s with 10 neurons\n",
      "\n",
      "Evaluating model GaussianNB with 10 neurons\n",
      "Training time 0.932s\n",
      "Test set score for GaussianNB: 0.60 with 10 neurons\n",
      "Scoring time 7.623s with 10 neurons\n",
      "\n",
      "Evaluating model LogisticRegression with 100 neurons\n",
      "Training time 31.818s\n",
      "Test set score for LogisticRegression: 0.77 with 100 neurons\n",
      "Scoring time 0.095s with 100 neurons\n",
      "\n",
      "Evaluating model GaussianNB with 100 neurons\n",
      "Training time 0.965s\n",
      "Test set score for GaussianNB: 0.60 with 100 neurons\n",
      "Scoring time 7.832s with 100 neurons\n",
      "\n",
      "Evaluating model LogisticRegression with 1000 neurons\n",
      "Training time 330.461s\n",
      "Test set score for LogisticRegression: 0.77 with 1000 neurons\n",
      "Scoring time 0.244s with 1000 neurons\n",
      "\n",
      "Evaluating model GaussianNB with 1000 neurons\n",
      "Training time 2.095s\n",
      "Test set score for GaussianNB: 0.60 with 1000 neurons\n",
      "Scoring time 18.965s with 1000 neurons\n"
     ]
    }
   ],
   "source": [
    "classifiers = {}\n",
    "evaluations = {}\n",
    "\n",
    "Ls = [0, 10, 100, 1000]\n",
    "for L in Ls:\n",
    "    classifiers_ = {}\n",
    "    evaluations_ = {}\n",
    "    \n",
    "    W = np.random.randn(X_train.shape[1], L) / np.sqrt(X_train.shape[1])\n",
    "    bias = np.random.randn(1, L)\n",
    "\n",
    "    X_new_train = np.hstack((X_train, \n",
    "                               np.tanh(X_train.dot(W) + bias)))\n",
    "    X_new_test = np.hstack((X_test,\n",
    "                              np.tanh(X_test.dot(W) + bias)))\n",
    "\n",
    "    for name, model in models.items():\n",
    "        print('\\nEvaluating model {} with {:d} neurons'.format(name, L))\n",
    "        start = time.time()\n",
    "        classifier = model.fit(X_new_train, Y_train)\n",
    "        end = time.time()\n",
    "        training_time = end - start\n",
    "        print(\"Training time %.3fs\"%(training_time))\n",
    "\n",
    "        start = time.time()\n",
    "        score = classifier.score(X_new_test, Y_test)\n",
    "        end = time.time()\n",
    "        scoring_time = end - start\n",
    "\n",
    "        classifiers_[name] = classifier\n",
    "        evaluations_[name] = {}\n",
    "        evaluations_[name]['training_time'] = training_time\n",
    "        evaluations_[name]['scoring_time'] = training_time\n",
    "        evaluations_[name]['score'] = score\n",
    "\n",
    "        print(\"Test set score for {}: {:.2f} with {:d} neurons\".format(name, score, L))\n",
    "        print(\"Scoring time {:.3f}s with {:d} neurons\".format(scoring_time, L))\n",
    "    \n",
    "    classifiers[L] = classifiers_\n",
    "    evaluations[L] = evaluations_"
   ]
  },
  {
   "cell_type": "code",
   "execution_count": null,
   "metadata": {
    "collapsed": true
   },
   "outputs": [],
   "source": []
  }
 ],
 "metadata": {
  "anaconda-cloud": {},
  "kernelspec": {
   "display_name": "Python 3",
   "language": "python",
   "name": "python3"
  },
  "language_info": {
   "codemirror_mode": {
    "name": "ipython",
    "version": 3
   },
   "file_extension": ".py",
   "mimetype": "text/x-python",
   "name": "python",
   "nbconvert_exporter": "python",
   "pygments_lexer": "ipython3",
   "version": "3.6.0"
  }
 },
 "nbformat": 4,
 "nbformat_minor": 1
}
