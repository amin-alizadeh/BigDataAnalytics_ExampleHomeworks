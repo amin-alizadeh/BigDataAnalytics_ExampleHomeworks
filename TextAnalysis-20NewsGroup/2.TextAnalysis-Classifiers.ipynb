{
 "cells": [
  {
   "cell_type": "code",
   "execution_count": 1,
   "metadata": {
    "collapsed": true
   },
   "outputs": [],
   "source": [
    "from sklearn.neighbors import KNeighborsClassifier\n",
    "from sklearn.ensemble import RandomForestClassifier, GradientBoostingClassifier\n",
    "from sklearn.svm import LinearSVC\n",
    "from sklearn.naive_bayes import GaussianNB\n",
    "\n",
    "from sklearn.cluster import AgglomerativeClustering, DBSCAN, KMeans, MeanShift\n",
    "\n",
    "from sklearn.metrics import confusion_matrix, accuracy_score, precision_score\n",
    "from sklearn.datasets import fetch_20newsgroups\n",
    "from sklearn.feature_extraction.text import CountVectorizer\n",
    "from sklearn.metrics import precision_recall_curve\n",
    "\n",
    "import numpy as np\n",
    "\n",
    "import time"
   ]
  },
  {
   "cell_type": "code",
   "execution_count": 2,
   "metadata": {
    "collapsed": true
   },
   "outputs": [],
   "source": [
    "news = fetch_20newsgroups(subset='train')\n",
    "Text_train = news.data\n",
    "Y_train = news.target\n",
    "\n",
    "news_test = fetch_20newsgroups(subset='test')\n",
    "Text_test = news_test.data\n",
    "Y_test = news_test.target\n",
    "\n",
    "processor = CountVectorizer(max_features=5000, stop_words='english')\n",
    "processor.fit(Text_train)\n",
    "Sparse_train = processor.transform(Text_train)\n",
    "Sparse_test = processor.transform(Text_test)\n",
    "\n",
    "X_train = np.array(Sparse_train.todense())\n",
    "X_test = np.array(Sparse_test.todense())\n",
    "\n",
    "labels = news.target_names\n",
    "vocabulary = processor.vocabulary_"
   ]
  },
  {
   "cell_type": "code",
   "execution_count": 3,
   "metadata": {
    "collapsed": true
   },
   "outputs": [],
   "source": [
    "models = {\n",
    "    'LinearSVC': LinearSVC(random_state=0)\n",
    "    ,'RandomForestClassifier': RandomForestClassifier(n_estimators=100, random_state=0, max_features=20)\n",
    "    #,'KNeighborsClassifier3': KNeighborsClassifier(n_neighbors=3)\n",
    "    ,'GradientBoostingClassifier': GradientBoostingClassifier(max_depth=5, max_features=20)\n",
    "    ,'GaussianNB': GaussianNB()\n",
    "}"
   ]
  },
  {
   "cell_type": "code",
   "execution_count": 4,
   "metadata": {
    "collapsed": false,
    "scrolled": true
   },
   "outputs": [
    {
     "name": "stdout",
     "output_type": "stream",
     "text": [
      "\n",
      "Evaluating model LinearSVC\n",
      "Training time 3.639\n",
      "Test set score for LinearSVC: 0.73\n",
      "Scoring time 0.157 s\n",
      "\n",
      "Evaluating model RandomForestClassifier\n",
      "Training time 24.733\n",
      "Test set score for RandomForestClassifier: 0.77\n",
      "Scoring time 0.995 s\n",
      "\n",
      "Evaluating model GradientBoostingClassifier\n",
      "Training time 67.213\n",
      "Test set score for GradientBoostingClassifier: 0.73\n",
      "Scoring time 1.466 s\n",
      "\n",
      "Evaluating model GaussianNB\n",
      "Training time 0.990\n",
      "Test set score for GaussianNB: 0.60\n",
      "Scoring time 8.221 s\n",
      "Wall time: 1min 47s\n"
     ]
    }
   ],
   "source": [
    "%%time\n",
    "classifiers = {}\n",
    "evaluations = {}\n",
    "for name, model in models.items():\n",
    "    print('\\nEvaluating model {}'.format(name))\n",
    "    start = time.time()\n",
    "    classifier = model.fit(X_train, Y_train)\n",
    "    end = time.time()\n",
    "    training_time = end - start\n",
    "    print(\"Training time %.3f\"%(training_time))\n",
    "    \n",
    "    start = time.time()\n",
    "    score = classifier.score(X_test, Y_test)\n",
    "    end = time.time()\n",
    "    scoring_time = end - start\n",
    "    \n",
    "    classifiers[name] = classifier\n",
    "    evaluations[name] = {}\n",
    "    evaluations[name]['training_time'] = training_time\n",
    "    evaluations[name]['scoring_time'] = training_time\n",
    "    evaluations[name]['score'] = score\n",
    "    \n",
    "    print(\"Test set score for {}: {:.2f}\".format(name, score))\n",
    "    print(\"Scoring time %.3f s\"%(scoring_time))"
   ]
  },
  {
   "cell_type": "code",
   "execution_count": null,
   "metadata": {
    "collapsed": true
   },
   "outputs": [],
   "source": []
  }
 ],
 "metadata": {
  "kernelspec": {
   "display_name": "Python 3",
   "language": "python",
   "name": "python3"
  },
  "language_info": {
   "codemirror_mode": {
    "name": "ipython",
    "version": 3
   },
   "file_extension": ".py",
   "mimetype": "text/x-python",
   "name": "python",
   "nbconvert_exporter": "python",
   "pygments_lexer": "ipython3",
   "version": "3.6.0"
  }
 },
 "nbformat": 4,
 "nbformat_minor": 2
}
